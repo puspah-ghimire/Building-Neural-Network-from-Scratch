{
 "cells": [
  {
   "cell_type": "code",
   "execution_count": 115,
   "id": "fe9f391c-3c7e-4ab4-97a3-017c462c8230",
   "metadata": {},
   "outputs": [],
   "source": [
    "# Importing Libraries\n",
    "import numpy as np\n",
    "import matplotlib.pyplot as plt\n",
    "%matplotlib inline"
   ]
  },
  {
   "cell_type": "code",
   "execution_count": 116,
   "id": "159c8c56-813e-4dcf-ab56-d5b7f675248f",
   "metadata": {},
   "outputs": [],
   "source": [
    "# XOR table's data\n",
    "X = np.array([ [0, 1], [1, 0], [1, 1],[0, 0] ])\n",
    "y = np.array([ [1], [1], [0], [0]])"
   ]
  },
  {
   "cell_type": "code",
   "execution_count": 117,
   "id": "5b6db87f-ef9b-4b7b-8079-820d54758824",
   "metadata": {},
   "outputs": [],
   "source": [
    "# Defining number of nodes in each layer\n",
    "num_input = 2\n",
    "num_hidden = 5\n",
    "num_output = 1"
   ]
  },
  {
   "cell_type": "code",
   "execution_count": 118,
   "id": "ca378e1d-c0ee-4d72-ad78-030ffe5af89e",
   "metadata": {},
   "outputs": [],
   "source": [
    "# Initializing the weights and bias randomly. First, we initialize the input to hidden layer weights\n",
    "Wxh = np.random.randn(num_input,num_hidden)\n",
    "bh = np.zeros((1,num_hidden))"
   ]
  },
  {
   "cell_type": "code",
   "execution_count": 119,
   "id": "ac82adc1-ed48-4064-baf2-073c43c01fcb",
   "metadata": {},
   "outputs": [],
   "source": [
    "# Initializing the hidden to output layer weights\n",
    "Why = np.random.randn (num_hidden,num_output)\n",
    "by = np.zeros((1,num_output))"
   ]
  },
  {
   "cell_type": "code",
   "execution_count": 120,
   "id": "b94368be-0449-446a-b68b-3aaee4785442",
   "metadata": {},
   "outputs": [],
   "source": [
    "# Sigmoid activation function\n",
    "def sigmoid(z):\n",
    "    return 1 / (1+np.exp(-z))"
   ]
  },
  {
   "cell_type": "code",
   "execution_count": 121,
   "id": "c1412145-a826-43f1-9d09-6be0dc9199a4",
   "metadata": {},
   "outputs": [],
   "source": [
    "# Derivative of sigmoid function\n",
    "def sigmoid_derivative(z):\n",
    "    return np.exp(-z)/((1+np.exp(-z))**2)"
   ]
  },
  {
   "cell_type": "code",
   "execution_count": 122,
   "id": "a07a2566-f92a-4f06-a98f-6f0111d591f4",
   "metadata": {},
   "outputs": [],
   "source": [
    "# Forward propagation\n",
    "def forward_prop(X,Wxh,Why):\n",
    "    z1 = np.dot(X,Wxh) + bh\n",
    "    a1 = sigmoid(z1)\n",
    "    z2 = np.dot(a1,Why) + by\n",
    "    y_hat = sigmoid(z2)\n",
    "    return z1,a1,z2,y_hat"
   ]
  },
  {
   "cell_type": "code",
   "execution_count": 123,
   "id": "8dabc646-1852-4a94-8937-14b9f0c48aa1",
   "metadata": {},
   "outputs": [],
   "source": [
    "# Backward propagation\n",
    "def backword_prop(y_hat, z1, a1, z2):\n",
    "    delta2 = np.multiply(-(y-y_hat),sigmoid_derivative(z2))\n",
    "    dJ_dWhy = np.dot(a1.T, delta2)\n",
    "    delta1 = np.dot(delta2,Why.T)*sigmoid_derivative(z1)\n",
    "    dJ_dWxh = np.dot(X.T, delta1)\n",
    "    return dJ_dWxh, dJ_dWhy"
   ]
  },
  {
   "cell_type": "code",
   "execution_count": 124,
   "id": "ff4119a2-e859-4c4b-b701-0b694a2180a4",
   "metadata": {},
   "outputs": [],
   "source": [
    "# Cost function\n",
    "def cost_function(y, y_hat):\n",
    "    J = 0.5*sum((y-y_hat)**2)\n",
    "    return J"
   ]
  },
  {
   "cell_type": "code",
   "execution_count": 125,
   "id": "4bc67fd1-b9aa-4484-9eea-3bff06ffdce5",
   "metadata": {},
   "outputs": [],
   "source": [
    "# Setting the learning rate and the number of training iterations\n",
    "alpha = 0.01\n",
    "num_iterations = 5000"
   ]
  },
  {
   "cell_type": "code",
   "execution_count": 126,
   "id": "e170c175-8cec-4d13-a246-fbc33f2e4c96",
   "metadata": {},
   "outputs": [],
   "source": [
    "# Training the network\n",
    "cost =[]\n",
    "\n",
    "for i in range(num_iterations):\n",
    "    z1,a1,z2,y_hat = forward_prop(X,Wxh,Why)\n",
    "    dJ_dWxh, dJ_dWhy = backword_prop(y_hat, z1, a1, z2)\n",
    "    \n",
    "    # Updating weights\n",
    "    Wxh = Wxh -alpha * dJ_dWxh\n",
    "    Why = Why -alpha * dJ_dWhy\n",
    "    \n",
    "    # Computing cost\n",
    "    c = cost_function(y, y_hat)\n",
    "    cost.append(c)"
   ]
  },
  {
   "cell_type": "code",
   "execution_count": 127,
   "id": "42c4f151-01de-4f81-b2d0-a392599bf623",
   "metadata": {},
   "outputs": [
    {
     "data": {
      "text/plain": [
       "Text(0, 0.5, 'Cost')"
      ]
     },
     "execution_count": 127,
     "metadata": {},
     "output_type": "execute_result"
    },
    {
     "data": {
      "image/png": "[encoded data removed]",
      "text/plain": [
       "<Figure size 640x480 with 1 Axes>"
      ]
     },
     "metadata": {},
     "output_type": "display_data"
    }
   ],
   "source": [
    "# Plotting the cost function\n",
    "plt.grid()\n",
    "plt.plot(range(num_iterations),cost)\n",
    "plt.title('Cost Function')\n",
    "plt.xlabel('Training Iterations')\n",
    "plt.ylabel('Cost')"
   ]
  }
 ],
 "metadata": {
  "kernelspec": {
   "display_name": "Python 3 (ipykernel)",
   "language": "python",
   "name": "python3"
  },
  "language_info": {
   "codemirror_mode": {
    "name": "ipython",
    "version": 3
   },
   "file_extension": ".py",
   "mimetype": "text/x-python",
   "name": "python",
   "nbconvert_exporter": "python",
   "pygments_lexer": "ipython3",
   "version": "3.13.1"
  }
 },
 "nbformat": 4,
 "nbformat_minor": 5
}
